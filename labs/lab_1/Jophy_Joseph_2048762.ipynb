{
 "cells": [
  {
   "cell_type": "code",
   "execution_count": 180,
   "id": "0d8c2bfb",
   "metadata": {},
   "outputs": [],
   "source": [
    "#imports NumPy library\n",
    "import numpy as np"
   ]
  },
  {
   "cell_type": "code",
   "execution_count": 181,
   "id": "730c4315",
   "metadata": {},
   "outputs": [
    {
     "name": "stdout",
     "output_type": "stream",
     "text": [
      "[1, 2, 3, 4, 5]\n",
      "<class 'list'>\n"
     ]
    }
   ],
   "source": [
    "#initializes [1,2,3,4,5] to the variable python_list , prints python_list, prints the variable type for python_list \n",
    "python_list = [1, 2, 3, 4, 5]\n",
    "print(python_list)\n",
    "print(type(python_list))"
   ]
  },
  {
   "cell_type": "code",
   "execution_count": 182,
   "id": "8aa93635",
   "metadata": {},
   "outputs": [
    {
     "name": "stdout",
     "output_type": "stream",
     "text": [
      "[5, 4, 3, 2, 1]\n",
      "<class 'list'>\n"
     ]
    }
   ],
   "source": [
    "#initializes [5,4,3,2,1] to the variable python_list2 , prints python_list2, prints the variable type for python_list2 \n",
    "python_list2 = [5, 4, 3, 2, 1]\n",
    "print(python_list2)\n",
    "print(type(python_list2))"
   ]
  },
  {
   "cell_type": "code",
   "execution_count": 183,
   "id": "a5a7e120",
   "metadata": {},
   "outputs": [
    {
     "name": "stdout",
     "output_type": "stream",
     "text": [
      "[1 2 3 4 5]\n",
      "<class 'numpy.ndarray'>\n"
     ]
    }
   ],
   "source": [
    "#intializes the same list from python_list  to variable numpy_array,\n",
    "#prints the contents of the numpy array, and prints the type for the variable\n",
    "numpy_array = np.array(python_list)\n",
    "print(numpy_array)\n",
    "print(type(numpy_array))"
   ]
  },
  {
   "cell_type": "code",
   "execution_count": 184,
   "id": "beb1b23f",
   "metadata": {},
   "outputs": [
    {
     "name": "stdout",
     "output_type": "stream",
     "text": [
      "[5 4 3 2 1]\n",
      "<class 'numpy.ndarray'>\n"
     ]
    }
   ],
   "source": [
    "#intializes the same list from python_list2  to variable numpy_array,\n",
    "#prints the contents of the numpy array, and prints the type for the variable\n",
    "numpy_array = np.array(python_list2)\n",
    "print(numpy_array)\n",
    "print(type(numpy_array))"
   ]
  },
  {
   "cell_type": "code",
   "execution_count": 185,
   "id": "2657d3eb",
   "metadata": {},
   "outputs": [
    {
     "name": "stdout",
     "output_type": "stream",
     "text": [
      "[[1, 2, 3, 4, 5], [6, 7, 8, 9, 10], [11, 12, 13, 14, 15]]\n",
      "<class 'list'>\n"
     ]
    }
   ],
   "source": [
    "#intializes a 2d aray to a variable, prints its contents, and type for the variable\n",
    "python_2d_array = [[1, 2, 3, 4, 5], [6, 7, 8, 9, 10], [11, 12, 13, 14, 15]]\n",
    "print(python_2d_array)\n",
    "print(type(python_2d_array))"
   ]
  },
  {
   "cell_type": "code",
   "execution_count": 186,
   "id": "d4977375",
   "metadata": {},
   "outputs": [
    {
     "name": "stdout",
     "output_type": "stream",
     "text": [
      "[[5, 4, 3, 4, 5], [6, 9, 8, 9, 10]]\n",
      "<class 'list'>\n"
     ]
    }
   ],
   "source": [
    "#intializes a 2d aray to a variable, prints its contents, and type for the variable\n",
    "python_2d_array2 = [[5, 4, 3, 4, 5], [6, 9, 8, 9, 10]]\n",
    "print(python_2d_array2)\n",
    "print(type(python_2d_array2))"
   ]
  },
  {
   "cell_type": "code",
   "execution_count": 187,
   "id": "31b589c2",
   "metadata": {},
   "outputs": [
    {
     "name": "stdout",
     "output_type": "stream",
     "text": [
      "[[ 1  2  3  4  5]\n",
      " [ 6  7  8  9 10]\n",
      " [11 12 13 14 15]]\n",
      "<class 'numpy.ndarray'>\n"
     ]
    }
   ],
   "source": [
    "#initializes the same 2d array from python_2d_array to variable numpy_2d_array,\n",
    "#prints the contents of the numpy_2d_array, and prints the type for the variable\n",
    "numpy_2d_array = np.array(python_2d_array)\n",
    "print(numpy_2d_array)\n",
    "print(type(numpy_2d_array))"
   ]
  },
  {
   "cell_type": "code",
   "execution_count": 188,
   "id": "bb8082db",
   "metadata": {},
   "outputs": [
    {
     "name": "stdout",
     "output_type": "stream",
     "text": [
      "[[ 5  4  3  4  5]\n",
      " [ 6  9  8  9 10]]\n",
      "<class 'numpy.ndarray'>\n"
     ]
    }
   ],
   "source": [
    "#initializes the same 2d array from python_2d_array to variable numpy_2d_array,\n",
    "#prints the contents of the numpy_2d_array, and prints the type for the variable\n",
    "numpy_2d_array = np.array(python_2d_array2)\n",
    "print(numpy_2d_array)\n",
    "print(type(numpy_2d_array))"
   ]
  },
  {
   "cell_type": "code",
   "execution_count": 189,
   "id": "43b017e1",
   "metadata": {},
   "outputs": [],
   "source": [
    "#we can see from our above code that initializing lists and arrays in NumPy are considered different types by Python"
   ]
  },
  {
   "cell_type": "code",
   "execution_count": 190,
   "id": "c7ec0d99",
   "metadata": {},
   "outputs": [
    {
     "data": {
      "text/plain": [
       "array([ 0,  1,  2,  3,  4,  5,  6,  7,  8,  9, 10, 11, 12, 13, 14])"
      ]
     },
     "execution_count": 190,
     "metadata": {},
     "output_type": "execute_result"
    }
   ],
   "source": [
    "#this outputs all the numbers 0<=x<15 with a default stepsize of 1\n",
    "np.arange(0, 15)"
   ]
  },
  {
   "cell_type": "code",
   "execution_count": 191,
   "id": "5b4042d6",
   "metadata": {},
   "outputs": [
    {
     "data": {
      "text/plain": [
       "array([ 0,  1,  2,  3,  4,  5,  6,  7,  8,  9, 10, 11, 12, 13, 14, 15, 16,\n",
       "       17, 18, 19, 20, 21, 22, 23, 24, 25, 26, 27, 28, 29, 30, 31, 32, 33,\n",
       "       34, 35, 36, 37, 38, 39, 40, 41, 42, 43, 44, 45, 46, 47, 48, 49, 50,\n",
       "       51, 52, 53, 54, 55, 56, 57, 58, 59, 60, 61, 62, 63, 64, 65, 66, 67,\n",
       "       68, 69, 70, 71, 72, 73, 74, 75, 76, 77, 78, 79, 80, 81, 82, 83, 84,\n",
       "       85, 86, 87, 88, 89, 90, 91, 92, 93, 94, 95, 96, 97, 98, 99])"
      ]
     },
     "execution_count": 191,
     "metadata": {},
     "output_type": "execute_result"
    }
   ],
   "source": [
    "#this outputs all the numbers 0<=x<100 with a default stepsize of 1\n",
    "np.arange(0, 100)"
   ]
  },
  {
   "cell_type": "code",
   "execution_count": 192,
   "id": "9df437ce",
   "metadata": {},
   "outputs": [
    {
     "data": {
      "text/plain": [
       "array([ 0,  2,  4,  6,  8, 10, 12, 14])"
      ]
     },
     "execution_count": 192,
     "metadata": {},
     "output_type": "execute_result"
    }
   ],
   "source": [
    "#this outputs all the numbers 0<=x<15 with a stepsize of 2\n",
    "np.arange(0, 15,2)"
   ]
  },
  {
   "cell_type": "code",
   "execution_count": 193,
   "id": "12e62e2a",
   "metadata": {},
   "outputs": [
    {
     "data": {
      "text/plain": [
       "array([ 0,  2,  4,  6,  8, 10, 12, 14, 16, 18, 20, 22, 24, 26, 28, 30, 32,\n",
       "       34, 36, 38, 40, 42, 44, 46, 48, 50, 52, 54, 56, 58, 60, 62, 64, 66,\n",
       "       68, 70, 72, 74, 76, 78, 80, 82, 84, 86, 88, 90, 92, 94, 96, 98])"
      ]
     },
     "execution_count": 193,
     "metadata": {},
     "output_type": "execute_result"
    }
   ],
   "source": [
    "#this outputs all the numbers 0<=x<100 with a stepsize of 2\n",
    "np.arange(0, 100,2)"
   ]
  },
  {
   "cell_type": "code",
   "execution_count": 194,
   "id": "a52f7410",
   "metadata": {},
   "outputs": [
    {
     "data": {
      "text/plain": [
       "array([[ 0,  1,  2,  3,  4],\n",
       "       [ 5,  6,  7,  8,  9],\n",
       "       [10, 11, 12, 13, 14]])"
      ]
     },
     "execution_count": 194,
     "metadata": {},
     "output_type": "execute_result"
    }
   ],
   "source": [
    "#this outputs all the numbers 0<=x<15 with a default stepsize of 1\n",
    "#outputted in 3 arrays with 5 elements \n",
    "np.arange(0, 15).reshape(3, 5)"
   ]
  },
  {
   "cell_type": "code",
   "execution_count": 195,
   "id": "8f58ee09",
   "metadata": {},
   "outputs": [
    {
     "data": {
      "text/plain": [
       "array([[0, 1, 2, 3, 4],\n",
       "       [5, 6, 7, 8, 9]])"
      ]
     },
     "execution_count": 195,
     "metadata": {},
     "output_type": "execute_result"
    }
   ],
   "source": [
    "#this outputs all the numbers 0<=x<100 with a default stepsize of 2\n",
    "#outputted in 3 arrays with 5 elements \n",
    "np.arange(0, 10).reshape(2, 5)"
   ]
  },
  {
   "cell_type": "code",
   "execution_count": 196,
   "id": "3878a90f",
   "metadata": {},
   "outputs": [
    {
     "data": {
      "text/plain": [
       "array([0., 0., 0., 0., 0., 0., 0., 0., 0., 0., 0., 0., 0., 0., 0.])"
      ]
     },
     "execution_count": 196,
     "metadata": {},
     "output_type": "execute_result"
    }
   ],
   "source": [
    "#outputs an array with 15 0's\n",
    "np.zeros(15)"
   ]
  },
  {
   "cell_type": "code",
   "execution_count": 197,
   "id": "ed083f23",
   "metadata": {},
   "outputs": [
    {
     "data": {
      "text/plain": [
       "array([0., 0., 0., 0., 0., 0., 0., 0., 0., 0., 0., 0., 0., 0., 0., 0., 0.,\n",
       "       0., 0., 0., 0., 0., 0., 0., 0., 0., 0., 0., 0., 0., 0., 0., 0., 0.,\n",
       "       0., 0., 0., 0., 0., 0., 0., 0., 0., 0., 0., 0., 0., 0., 0., 0., 0.,\n",
       "       0., 0., 0., 0., 0., 0., 0., 0., 0., 0., 0., 0., 0., 0., 0., 0., 0.,\n",
       "       0., 0., 0., 0., 0., 0., 0., 0., 0., 0., 0., 0., 0., 0., 0., 0., 0.,\n",
       "       0., 0., 0., 0., 0., 0., 0., 0., 0., 0., 0., 0., 0., 0., 0.])"
      ]
     },
     "execution_count": 197,
     "metadata": {},
     "output_type": "execute_result"
    }
   ],
   "source": [
    "#outputs an array with 100 0's\n",
    "np.zeros(100)"
   ]
  },
  {
   "cell_type": "code",
   "execution_count": 198,
   "id": "e886ec91",
   "metadata": {},
   "outputs": [
    {
     "data": {
      "text/plain": [
       "array([[0., 0., 0., 0., 0.],\n",
       "       [0., 0., 0., 0., 0.],\n",
       "       [0., 0., 0., 0., 0.]])"
      ]
     },
     "execution_count": 198,
     "metadata": {},
     "output_type": "execute_result"
    }
   ],
   "source": [
    "#outputs an array of 15 0's \n",
    "#outputted in 3 arrays with 5 elements\n",
    "np.zeros(15).reshape(3, 5)"
   ]
  },
  {
   "cell_type": "code",
   "execution_count": 199,
   "id": "354509a9",
   "metadata": {},
   "outputs": [
    {
     "data": {
      "text/plain": [
       "array([[0., 0., 0., 0., 0., 0., 0., 0., 0., 0., 0., 0., 0., 0., 0., 0.,\n",
       "        0., 0., 0., 0., 0., 0., 0., 0., 0., 0., 0., 0., 0., 0., 0., 0.,\n",
       "        0., 0., 0., 0., 0., 0., 0., 0., 0., 0., 0., 0., 0., 0., 0., 0.,\n",
       "        0., 0.],\n",
       "       [0., 0., 0., 0., 0., 0., 0., 0., 0., 0., 0., 0., 0., 0., 0., 0.,\n",
       "        0., 0., 0., 0., 0., 0., 0., 0., 0., 0., 0., 0., 0., 0., 0., 0.,\n",
       "        0., 0., 0., 0., 0., 0., 0., 0., 0., 0., 0., 0., 0., 0., 0., 0.,\n",
       "        0., 0.]])"
      ]
     },
     "execution_count": 199,
     "metadata": {},
     "output_type": "execute_result"
    }
   ],
   "source": [
    "#outputs an array of 15 0's \n",
    "#outputted in 2 arrays with 50 elements\n",
    "np.zeros(100).reshape(2, 50)"
   ]
  },
  {
   "cell_type": "code",
   "execution_count": 200,
   "id": "d45bad9d",
   "metadata": {},
   "outputs": [
    {
     "data": {
      "text/plain": [
       "array([1., 1., 1., 1., 1., 1., 1., 1., 1., 1., 1., 1., 1., 1., 1.])"
      ]
     },
     "execution_count": 200,
     "metadata": {},
     "output_type": "execute_result"
    }
   ],
   "source": [
    "#outputs an array of 15 1's\n",
    "np.ones(15)"
   ]
  },
  {
   "cell_type": "code",
   "execution_count": 201,
   "id": "87378482",
   "metadata": {},
   "outputs": [
    {
     "data": {
      "text/plain": [
       "array([1., 1., 1., 1., 1., 1., 1., 1., 1., 1.])"
      ]
     },
     "execution_count": 201,
     "metadata": {},
     "output_type": "execute_result"
    }
   ],
   "source": [
    "#outputs an array of 10 1's\n",
    "np.ones(10)"
   ]
  },
  {
   "cell_type": "code",
   "execution_count": 202,
   "id": "3c6f46cb",
   "metadata": {},
   "outputs": [
    {
     "data": {
      "text/plain": [
       "array([[1., 1., 1., 1., 1.],\n",
       "       [1., 1., 1., 1., 1.],\n",
       "       [1., 1., 1., 1., 1.]])"
      ]
     },
     "execution_count": 202,
     "metadata": {},
     "output_type": "execute_result"
    }
   ],
   "source": [
    "#outputs an array of 15 1's\n",
    "#outputted in 3 arrays with 5 elements\n",
    "np.ones(15).reshape(3, 5)"
   ]
  },
  {
   "cell_type": "code",
   "execution_count": 203,
   "id": "956a289c",
   "metadata": {},
   "outputs": [
    {
     "data": {
      "text/plain": [
       "array([[1., 1., 1., 1., 1.],\n",
       "       [1., 1., 1., 1., 1.],\n",
       "       [1., 1., 1., 1., 1.],\n",
       "       [1., 1., 1., 1., 1.],\n",
       "       [1., 1., 1., 1., 1.]])"
      ]
     },
     "execution_count": 203,
     "metadata": {},
     "output_type": "execute_result"
    }
   ],
   "source": [
    "#outputs an array of 25 1's\n",
    "#outputted in 5 arrays with 5 elements\n",
    "np.ones(25).reshape(5, 5)"
   ]
  },
  {
   "cell_type": "code",
   "execution_count": 204,
   "id": "29965c8a",
   "metadata": {},
   "outputs": [
    {
     "data": {
      "text/plain": [
       "array([[1, 1, 1, 1, 1],\n",
       "       [1, 1, 1, 1, 1],\n",
       "       [1, 1, 1, 1, 1]])"
      ]
     },
     "execution_count": 204,
     "metadata": {},
     "output_type": "execute_result"
    }
   ],
   "source": [
    "#changes the default type of float for each element to int \n",
    "np.ones(15, dtype=int).reshape(3, 5)"
   ]
  },
  {
   "cell_type": "code",
   "execution_count": 205,
   "id": "6b26fc26",
   "metadata": {},
   "outputs": [
    {
     "data": {
      "text/plain": [
       "array([[1.+0.j, 1.+0.j, 1.+0.j, 1.+0.j, 1.+0.j],\n",
       "       [1.+0.j, 1.+0.j, 1.+0.j, 1.+0.j, 1.+0.j],\n",
       "       [1.+0.j, 1.+0.j, 1.+0.j, 1.+0.j, 1.+0.j]])"
      ]
     },
     "execution_count": 205,
     "metadata": {},
     "output_type": "execute_result"
    }
   ],
   "source": [
    "#changes the default type of float for each element to Complex \n",
    "np.ones(15, dtype=complex).reshape(3, 5)"
   ]
  },
  {
   "cell_type": "code",
   "execution_count": 206,
   "id": "f61b62d6",
   "metadata": {},
   "outputs": [
    {
     "data": {
      "text/plain": [
       "array([[1., 0., 0., 0., 0.],\n",
       "       [0., 1., 0., 0., 0.],\n",
       "       [0., 0., 1., 0., 0.],\n",
       "       [0., 0., 0., 1., 0.],\n",
       "       [0., 0., 0., 0., 1.]])"
      ]
     },
     "execution_count": 206,
     "metadata": {},
     "output_type": "execute_result"
    }
   ],
   "source": [
    "#creates an identity matrix of size 5\n",
    "np.eye(5)"
   ]
  },
  {
   "cell_type": "code",
   "execution_count": 207,
   "id": "19de79d9",
   "metadata": {},
   "outputs": [
    {
     "data": {
      "text/plain": [
       "array([[1.]])"
      ]
     },
     "execution_count": 207,
     "metadata": {},
     "output_type": "execute_result"
    }
   ],
   "source": [
    "#creates an identity matrix of size 1\n",
    "np.eye(1)"
   ]
  },
  {
   "cell_type": "code",
   "execution_count": 208,
   "id": "f330f4d0",
   "metadata": {},
   "outputs": [
    {
     "data": {
      "text/plain": [
       "array([0.57343445, 0.35019511, 0.96337155, 0.98584354, 0.46593915])"
      ]
     },
     "execution_count": 208,
     "metadata": {},
     "output_type": "execute_result"
    }
   ],
   "source": [
    "#fills array with 5 random numbers from a uniform distrubtion of [0,1)\n",
    "np.random.rand(5)"
   ]
  },
  {
   "cell_type": "code",
   "execution_count": 209,
   "id": "10b3c556",
   "metadata": {},
   "outputs": [
    {
     "data": {
      "text/plain": [
       "array([0.66068935, 0.31097175, 0.21605182, 0.98847166, 0.87478213,\n",
       "       0.51355369, 0.35741669, 0.95748682, 0.89456097, 0.31645132])"
      ]
     },
     "execution_count": 209,
     "metadata": {},
     "output_type": "execute_result"
    }
   ],
   "source": [
    "#fills array with 10 random numbers from a uniform distrubtion of [0,1)\n",
    "np.random.rand(10)"
   ]
  },
  {
   "cell_type": "code",
   "execution_count": 210,
   "id": "3fea389c",
   "metadata": {},
   "outputs": [
    {
     "data": {
      "text/plain": [
       "array([ 0.15238754, -1.31023746,  1.42391452,  0.81173318, -1.94205637])"
      ]
     },
     "execution_count": 210,
     "metadata": {},
     "output_type": "execute_result"
    }
   ],
   "source": [
    "#fills array with 5 random numbers from standard normal distribution\n",
    "np.random.randn(5)"
   ]
  },
  {
   "cell_type": "code",
   "execution_count": 211,
   "id": "8510a6a3",
   "metadata": {},
   "outputs": [
    {
     "data": {
      "text/plain": [
       "array([ 0.63605124, -0.09546231, -1.52868068, -1.07540051,  1.00239517,\n",
       "        0.14682818,  0.98757699, -1.54771091,  1.3838331 , -0.26547375])"
      ]
     },
     "execution_count": 211,
     "metadata": {},
     "output_type": "execute_result"
    }
   ],
   "source": [
    "#fills array with 10 random numbers from standard normal distribution\n",
    "np.random.randn(10)"
   ]
  },
  {
   "cell_type": "code",
   "execution_count": 212,
   "id": "59f6cf68",
   "metadata": {},
   "outputs": [
    {
     "data": {
      "text/plain": [
       "93"
      ]
     },
     "execution_count": 212,
     "metadata": {},
     "output_type": "execute_result"
    }
   ],
   "source": [
    "# returns a random integer between 1 and 100\n",
    "np.random.randint(1,100)"
   ]
  },
  {
   "cell_type": "code",
   "execution_count": 213,
   "id": "9c0ef232",
   "metadata": {},
   "outputs": [
    {
     "data": {
      "text/plain": [
       "807644"
      ]
     },
     "execution_count": 213,
     "metadata": {},
     "output_type": "execute_result"
    }
   ],
   "source": [
    "# returns a random integer between 1 and 1000000\n",
    "np.random.randint(1,1000000)"
   ]
  },
  {
   "cell_type": "code",
   "execution_count": 214,
   "id": "aa2aecb6",
   "metadata": {},
   "outputs": [
    {
     "data": {
      "text/plain": [
       "array([50, 90, 55, 33, 34, 67, 56, 67, 38, 65, 20, 10, 98, 11, 45])"
      ]
     },
     "execution_count": 214,
     "metadata": {},
     "output_type": "execute_result"
    }
   ],
   "source": [
    "#return an array of size 15 with random integers between 1 and 100\n",
    "np.random.randint(1, 100, 15)"
   ]
  },
  {
   "cell_type": "code",
   "execution_count": 215,
   "id": "e56f763a",
   "metadata": {},
   "outputs": [
    {
     "data": {
      "text/plain": [
       "array([ 20288, 807435, 838874, 664992, 820426, 904311, 305122, 654082,\n",
       "       473910, 858543, 748797, 235996, 111510, 645558, 475201])"
      ]
     },
     "execution_count": 215,
     "metadata": {},
     "output_type": "execute_result"
    }
   ],
   "source": [
    "#return an array of size 15 with random integers between 1 and 1000000\n",
    "np.random.randint(1, 1000000, 15)"
   ]
  },
  {
   "cell_type": "code",
   "execution_count": 216,
   "id": "4469f015",
   "metadata": {},
   "outputs": [
    {
     "data": {
      "text/plain": [
       "array([[37, 46, 29, 46, 62],\n",
       "       [16, 96, 65,  2, 54],\n",
       "       [29, 25, 11, 77, 63],\n",
       "       [41, 94, 51, 11, 24]])"
      ]
     },
     "execution_count": 216,
     "metadata": {},
     "output_type": "execute_result"
    }
   ],
   "source": [
    "#returns 4 arrays with 5 elements with random integers between 0 and 100\n",
    "A = np.random.randint(0, 100, 20).reshape(4, 5)\n",
    "A"
   ]
  },
  {
   "cell_type": "code",
   "execution_count": 217,
   "id": "9e240d1e",
   "metadata": {},
   "outputs": [
    {
     "name": "stdout",
     "output_type": "stream",
     "text": [
      "The smallest value in A is 2, and is a located at position 8\n",
      "The largest value in A is 96, and is a located at position 6\n"
     ]
    }
   ],
   "source": [
    "#self explanatory\n",
    "print(f'The smallest value in A is {A.min()}, and is a located at position {A.argmin()}')\n",
    "print(f'The largest value in A is {A.max()}, and is a located at position {A.argmax()}')"
   ]
  },
  {
   "cell_type": "code",
   "execution_count": 218,
   "id": "2868310e",
   "metadata": {},
   "outputs": [
    {
     "data": {
      "text/plain": [
       "array([[430, 408, 812, 248, 402, 190, 240, 699, 109, 870,  21, 331, 377,\n",
       "        329,   8,  74, 483, 550, 743, 636, 954, 850, 921, 452, 952, 746,\n",
       "        732, 696, 358, 553, 131, 422, 263, 690, 718, 777, 254,  49, 812,\n",
       "        725],\n",
       "       [ 23, 916, 697, 551, 857, 415, 466, 149, 505, 146, 669, 380, 234,\n",
       "        156, 442, 773, 189, 713, 461, 138, 852, 786, 975, 984, 435, 732,\n",
       "        207, 483, 612, 351, 402, 859, 957, 229, 378, 627, 156,  16, 826,\n",
       "        477],\n",
       "       [874, 866, 850,  88, 605, 871, 879, 292, 457, 134, 105, 137, 326,\n",
       "        179, 291, 378, 554, 108, 941, 174, 559, 935, 531, 206, 924, 850,\n",
       "        190, 850, 346, 118, 797,  50, 386, 609, 358, 292, 316, 634, 331,\n",
       "         15],\n",
       "       [693, 494, 911, 119, 375, 964, 483, 654, 371, 811, 243, 877,  76,\n",
       "         39, 904, 557, 888, 395,  33, 390, 479, 110, 803,  25, 398, 969,\n",
       "        581, 260, 771, 380, 513, 459, 523, 855, 999, 624, 166, 712, 233,\n",
       "        848],\n",
       "       [374, 660, 198, 824, 867, 616, 285, 234, 990, 701, 422, 825, 211,\n",
       "        198, 430, 354, 647,  89, 483, 290, 250, 152, 307, 340, 641, 196,\n",
       "        299, 503, 649, 967, 559, 883, 324, 860,  51, 351, 458, 163, 419,\n",
       "        354]])"
      ]
     },
     "execution_count": 218,
     "metadata": {},
     "output_type": "execute_result"
    }
   ],
   "source": [
    "#returns 4 arrays with 5 elements with random integers between 0 and 1000\n",
    "B = np.random.randint(0, 1000, 200).reshape(5, 40)\n",
    "B"
   ]
  },
  {
   "cell_type": "code",
   "execution_count": 219,
   "id": "d12c2001",
   "metadata": {},
   "outputs": [
    {
     "name": "stdout",
     "output_type": "stream",
     "text": [
      "The smallest value in A is 8, and is a located at position 14\n",
      "The largest value in A is 999, and is a located at position 154\n"
     ]
    }
   ],
   "source": [
    "#self explanatory\n",
    "print(f'The smallest value in A is {B.min()}, and is a located at position {B.argmin()}')\n",
    "print(f'The largest value in A is {B.max()}, and is a located at position {B.argmax()}')"
   ]
  },
  {
   "cell_type": "code",
   "execution_count": 220,
   "id": "8157c82e",
   "metadata": {},
   "outputs": [
    {
     "data": {
      "text/plain": [
       "(4, 5)"
      ]
     },
     "execution_count": 220,
     "metadata": {},
     "output_type": "execute_result"
    }
   ],
   "source": [
    "#returns the dimensions of the 2d-array A\n",
    "A.shape"
   ]
  },
  {
   "cell_type": "code",
   "execution_count": 221,
   "id": "3e93048d",
   "metadata": {},
   "outputs": [
    {
     "data": {
      "text/plain": [
       "(5, 40)"
      ]
     },
     "execution_count": 221,
     "metadata": {},
     "output_type": "execute_result"
    }
   ],
   "source": [
    "#returns the dimensions of the 2d-array B\n",
    "B.shape"
   ]
  },
  {
   "cell_type": "code",
   "execution_count": 222,
   "id": "59f4ad3b",
   "metadata": {},
   "outputs": [
    {
     "data": {
      "text/plain": [
       "(4, 5)"
      ]
     },
     "execution_count": 222,
     "metadata": {},
     "output_type": "execute_result"
    }
   ],
   "source": [
    "#returns the dimensions of the 2d-array A\n",
    "np.shape(A)"
   ]
  },
  {
   "cell_type": "code",
   "execution_count": 223,
   "id": "7c210071",
   "metadata": {},
   "outputs": [
    {
     "data": {
      "text/plain": [
       "(5, 40)"
      ]
     },
     "execution_count": 223,
     "metadata": {},
     "output_type": "execute_result"
    }
   ],
   "source": [
    "#returns the dimensions of the 2d-array B\n",
    "np.shape(B)"
   ]
  },
  {
   "cell_type": "code",
   "execution_count": 224,
   "id": "439deaaf",
   "metadata": {},
   "outputs": [
    {
     "name": "stdout",
     "output_type": "stream",
     "text": [
      "A: [ 1  2  3  4  5  6  7  8  9 10 11 12 13 14 15]\n",
      "B: [ 1  3  5  7  9 11 13 15 17 19 21 23 25 27 29]\n",
      "C:\n",
      "[[0 1]\n",
      " [2 3]]\n",
      "D:\n",
      "[[0 1]\n",
      " [2 3]]\n",
      "E:\n",
      "[[ 1  2  3  4  5]\n",
      " [ 6  7  8  9 10]\n",
      " [11 12 13 14 15]]\n",
      "F: [ 0  1  2  3  4  5  6  7  8  9 10]\n"
     ]
    }
   ],
   "source": [
    "#example arrays we will be using to practice some operations\n",
    "A = np.arange(1, 16)\n",
    "B = np.arange(1, 30, 2)\n",
    "C = np.arange(0, 4).reshape(2, 2)\n",
    "D = np.arange(0, 4).reshape(2, 2)\n",
    "E = np.arange(1, 16).reshape(3, 5)\n",
    "F = np.arange(11)\n",
    "print(f'A: {A}')\n",
    "print(f'B: {B}')\n",
    "print('C:')\n",
    "print(C)\n",
    "print('D:')\n",
    "print(D)\n",
    "print('E:')\n",
    "print(E)\n",
    "print(f'F: {F}')"
   ]
  },
  {
   "cell_type": "code",
   "execution_count": 225,
   "id": "c551be6f",
   "metadata": {},
   "outputs": [
    {
     "data": {
      "text/plain": [
       "array([ 2,  5,  8, 11, 14, 17, 20, 23, 26, 29, 32, 35, 38, 41, 44])"
      ]
     },
     "execution_count": 225,
     "metadata": {},
     "output_type": "execute_result"
    }
   ],
   "source": [
    "#result of adding A and B\n",
    "A + B"
   ]
  },
  {
   "cell_type": "code",
   "execution_count": 226,
   "id": "fc6d8830",
   "metadata": {},
   "outputs": [
    {
     "data": {
      "text/plain": [
       "array([ 3,  8, 13, 18, 23, 28, 33, 38, 43, 48, 53, 58, 63, 68, 73])"
      ]
     },
     "execution_count": 226,
     "metadata": {},
     "output_type": "execute_result"
    }
   ],
   "source": [
    "#result of adding A and B twice\n",
    "A + B + B"
   ]
  },
  {
   "cell_type": "code",
   "execution_count": 227,
   "id": "dbe28706",
   "metadata": {},
   "outputs": [
    {
     "data": {
      "text/plain": [
       "array([ 6,  7,  8,  9, 10, 11, 12, 13, 14, 15, 16, 17, 18, 19, 20])"
      ]
     },
     "execution_count": 227,
     "metadata": {},
     "output_type": "execute_result"
    }
   ],
   "source": [
    "#adds 5 to each element in array A\n",
    "A+5"
   ]
  },
  {
   "cell_type": "code",
   "execution_count": 228,
   "id": "ea210ee9",
   "metadata": {},
   "outputs": [
    {
     "data": {
      "text/plain": [
       "array([11, 12, 13, 14, 15, 16, 17, 18, 19, 20, 21, 22, 23, 24, 25])"
      ]
     },
     "execution_count": 228,
     "metadata": {},
     "output_type": "execute_result"
    }
   ],
   "source": [
    "#adds 10 to each element in array A\n",
    "A+10"
   ]
  },
  {
   "cell_type": "code",
   "execution_count": 229,
   "id": "92c7b272",
   "metadata": {},
   "outputs": [
    {
     "data": {
      "text/plain": [
       "array([  0,  -1,  -2,  -3,  -4,  -5,  -6,  -7,  -8,  -9, -10, -11, -12,\n",
       "       -13, -14])"
      ]
     },
     "execution_count": 229,
     "metadata": {},
     "output_type": "execute_result"
    }
   ],
   "source": [
    "#result of subtracting B from A\n",
    "A - B"
   ]
  },
  {
   "cell_type": "code",
   "execution_count": 230,
   "id": "eced312f",
   "metadata": {},
   "outputs": [
    {
     "data": {
      "text/plain": [
       "array([ -1,  -4,  -7, -10, -13, -16, -19, -22, -25, -28, -31, -34, -37,\n",
       "       -40, -43])"
      ]
     },
     "execution_count": 230,
     "metadata": {},
     "output_type": "execute_result"
    }
   ],
   "source": [
    "#result of subtracting B twice from A\n",
    "A - B - B"
   ]
  },
  {
   "cell_type": "code",
   "execution_count": 231,
   "id": "ad35c264",
   "metadata": {},
   "outputs": [
    {
     "data": {
      "text/plain": [
       "array([-4, -3, -2, -1,  0,  1,  2,  3,  4,  5,  6,  7,  8,  9, 10])"
      ]
     },
     "execution_count": 231,
     "metadata": {},
     "output_type": "execute_result"
    }
   ],
   "source": [
    "#subtracts 5 from each element in array A\n",
    "A - 5"
   ]
  },
  {
   "cell_type": "code",
   "execution_count": 232,
   "id": "12b9b0ad",
   "metadata": {},
   "outputs": [
    {
     "data": {
      "text/plain": [
       "array([-99, -98, -97, -96, -95, -94, -93, -92, -91, -90, -89, -88, -87,\n",
       "       -86, -85])"
      ]
     },
     "execution_count": 232,
     "metadata": {},
     "output_type": "execute_result"
    }
   ],
   "source": [
    "#subtracts 100 from each element in array A\n",
    "A - 100"
   ]
  },
  {
   "cell_type": "code",
   "execution_count": 233,
   "id": "05cf51c6",
   "metadata": {},
   "outputs": [
    {
     "data": {
      "text/plain": [
       "array([  1,   6,  15,  28,  45,  66,  91, 120, 153, 190, 231, 276, 325,\n",
       "       378, 435])"
      ]
     },
     "execution_count": 233,
     "metadata": {},
     "output_type": "execute_result"
    }
   ],
   "source": [
    "#multiplies A and B\n",
    "A * B"
   ]
  },
  {
   "cell_type": "code",
   "execution_count": 234,
   "id": "7530112b",
   "metadata": {},
   "outputs": [
    {
     "data": {
      "text/plain": [
       "array([  3,  12,  25,  42,  63,  88, 117, 150, 187, 228, 273, 322, 375,\n",
       "       432, 493])"
      ]
     },
     "execution_count": 234,
     "metadata": {},
     "output_type": "execute_result"
    }
   ],
   "source": [
    "#multiplies A and B and adds to 2*B\n",
    "A * B + 2*B"
   ]
  },
  {
   "cell_type": "code",
   "execution_count": 235,
   "id": "f086949e",
   "metadata": {},
   "outputs": [
    {
     "data": {
      "text/plain": [
       "array([1.        , 0.66666667, 0.6       , 0.57142857, 0.55555556,\n",
       "       0.54545455, 0.53846154, 0.53333333, 0.52941176, 0.52631579,\n",
       "       0.52380952, 0.52173913, 0.52      , 0.51851852, 0.51724138])"
      ]
     },
     "execution_count": 235,
     "metadata": {},
     "output_type": "execute_result"
    }
   ],
   "source": [
    "#divides A by B\n",
    "A/B"
   ]
  },
  {
   "cell_type": "code",
   "execution_count": 236,
   "id": "7ae818e1",
   "metadata": {},
   "outputs": [
    {
     "data": {
      "text/plain": [
       "array([  0.        ,   5.33333333,  14.4       ,  27.42857143,\n",
       "        44.44444444,  65.45454545,  90.46153846, 119.46666667,\n",
       "       152.47058824, 189.47368421, 230.47619048, 275.47826087,\n",
       "       324.48      , 377.48148148, 434.48275862])"
      ]
     },
     "execution_count": 236,
     "metadata": {},
     "output_type": "execute_result"
    }
   ],
   "source": [
    "#divides A by B and subtracts it from A*B\n",
    "A*B-A/B"
   ]
  },
  {
   "cell_type": "code",
   "execution_count": 237,
   "id": "44ab0e7f",
   "metadata": {},
   "outputs": [
    {
     "data": {
      "text/plain": [
       "array([[ 2,  3],\n",
       "       [ 6, 11]])"
      ]
     },
     "execution_count": 237,
     "metadata": {},
     "output_type": "execute_result"
    }
   ],
   "source": [
    "#this performs matrix multiplication\n",
    "np.matmul(C, D)"
   ]
  },
  {
   "cell_type": "code",
   "execution_count": 238,
   "id": "9bdef1fc",
   "metadata": {},
   "outputs": [
    {
     "data": {
      "text/plain": [
       "array([[ 2,  3],\n",
       "       [ 6, 11]])"
      ]
     },
     "execution_count": 238,
     "metadata": {},
     "output_type": "execute_result"
    }
   ],
   "source": [
    "#this performs matrix multiplication\n",
    "np.matmul(D, C)"
   ]
  },
  {
   "cell_type": "code",
   "execution_count": 239,
   "id": "043c5a7f",
   "metadata": {},
   "outputs": [
    {
     "data": {
      "text/plain": [
       "array([[1.        , 1.41421356, 1.73205081, 2.        , 2.23606798],\n",
       "       [2.44948974, 2.64575131, 2.82842712, 3.        , 3.16227766],\n",
       "       [3.31662479, 3.46410162, 3.60555128, 3.74165739, 3.87298335]])"
      ]
     },
     "execution_count": 239,
     "metadata": {},
     "output_type": "execute_result"
    }
   ],
   "source": [
    "#sqrts each element in matrix E\n",
    "np.sqrt(E)"
   ]
  },
  {
   "cell_type": "code",
   "execution_count": 240,
   "id": "01a777e8",
   "metadata": {},
   "outputs": [
    {
     "data": {
      "text/plain": [
       "array([[1.        , 1.18920712, 1.31607401, 1.41421356, 1.49534878],\n",
       "       [1.56508458, 1.62657656, 1.68179283, 1.73205081, 1.77827941],\n",
       "       [1.82116029, 1.86120972, 1.89882892, 1.93433642, 1.96798967]])"
      ]
     },
     "execution_count": 240,
     "metadata": {},
     "output_type": "execute_result"
    }
   ],
   "source": [
    "#sqrts the sqrt of each element in matrix E\n",
    "np.sqrt(np.sqrt(E))"
   ]
  },
  {
   "cell_type": "code",
   "execution_count": 241,
   "id": "ab3579e6",
   "metadata": {},
   "outputs": [
    {
     "data": {
      "text/plain": [
       "array([[0.        , 0.69314718, 1.09861229, 1.38629436, 1.60943791],\n",
       "       [1.79175947, 1.94591015, 2.07944154, 2.19722458, 2.30258509],\n",
       "       [2.39789527, 2.48490665, 2.56494936, 2.63905733, 2.7080502 ]])"
      ]
     },
     "execution_count": 241,
     "metadata": {},
     "output_type": "execute_result"
    }
   ],
   "source": [
    "#log of each elements in matrix E\n",
    "np.log(E)"
   ]
  },
  {
   "cell_type": "code",
   "execution_count": 242,
   "id": "c0041523",
   "metadata": {},
   "outputs": [
    {
     "data": {
      "text/plain": [
       "array([0.        , 0.69314718, 1.09861229, 1.38629436, 1.60943791,\n",
       "       1.79175947, 1.94591015, 2.07944154, 2.19722458, 2.30258509,\n",
       "       2.39789527, 2.48490665, 2.56494936, 2.63905733, 2.7080502 ])"
      ]
     },
     "execution_count": 242,
     "metadata": {},
     "output_type": "execute_result"
    }
   ],
   "source": [
    "#logs the log of each elements in array A\n",
    "np.log(A)"
   ]
  },
  {
   "cell_type": "code",
   "execution_count": 243,
   "id": "e1fd58b4",
   "metadata": {},
   "outputs": [
    {
     "data": {
      "text/plain": [
       "array([ -1, 100,  -1, 300,  -1, 500,  -1, 700,  -1, 900,  -1])"
      ]
     },
     "execution_count": 243,
     "metadata": {},
     "output_type": "execute_result"
    }
   ],
   "source": [
    "#if the number is even we return -1, else we multiply it by 100\n",
    "np.where(F%2==0, -1, F*100)"
   ]
  },
  {
   "cell_type": "code",
   "execution_count": 244,
   "id": "f236db18",
   "metadata": {},
   "outputs": [
    {
     "data": {
      "text/plain": [
       "array([   0,   -1,  200,   -1,  400,   -1,  600,   -1,  800,   -1, 1000])"
      ]
     },
     "execution_count": 244,
     "metadata": {},
     "output_type": "execute_result"
    }
   ],
   "source": [
    "#if the number is odd we return -1, else we multiply it by 100\n",
    "np.where(F%2==1, -1, F*100)"
   ]
  },
  {
   "cell_type": "code",
   "execution_count": 245,
   "id": "c233fb25",
   "metadata": {},
   "outputs": [
    {
     "data": {
      "text/plain": [
       "array([ 0,  1,  2,  3,  4,  5,  6,  7,  8,  9, 10, 11, 12, 13, 14])"
      ]
     },
     "execution_count": 245,
     "metadata": {},
     "output_type": "execute_result"
    }
   ],
   "source": [
    "#recall that counting starts from 0 not 1\n",
    "A = np.arange(15)\n",
    "A"
   ]
  },
  {
   "cell_type": "code",
   "execution_count": 246,
   "id": "05049dd5",
   "metadata": {},
   "outputs": [
    {
     "data": {
      "text/plain": [
       "array([ 0,  1,  2,  3,  4,  5,  6,  7,  8,  9, 10, 11, 12, 13, 14, 15, 16,\n",
       "       17, 18, 19, 20, 21, 22, 23, 24, 25, 26, 27, 28, 29, 30, 31, 32, 33,\n",
       "       34, 35, 36, 37, 38, 39, 40, 41, 42, 43, 44, 45, 46, 47, 48, 49, 50,\n",
       "       51, 52, 53, 54, 55, 56, 57, 58, 59, 60, 61, 62, 63, 64, 65, 66, 67,\n",
       "       68, 69, 70, 71, 72, 73, 74, 75, 76, 77, 78, 79, 80, 81, 82, 83, 84,\n",
       "       85, 86, 87, 88, 89, 90, 91, 92, 93, 94, 95, 96, 97, 98, 99])"
      ]
     },
     "execution_count": 246,
     "metadata": {},
     "output_type": "execute_result"
    }
   ],
   "source": [
    "#recall that counting starts from 0 not 1\n",
    "B = np.arange(100)\n",
    "B"
   ]
  },
  {
   "cell_type": "code",
   "execution_count": 247,
   "id": "8c4bd1d4",
   "metadata": {},
   "outputs": [
    {
     "name": "stdout",
     "output_type": "stream",
     "text": [
      "A[0]: 0\n",
      "A[5]: 5\n",
      "A[14]: 14\n"
     ]
    }
   ],
   "source": [
    "print(f'A[0]: {A[0]}')\n",
    "print(f'A[5]: {A[5]}')\n",
    "print(f'A[14]: {A[14]}')"
   ]
  },
  {
   "cell_type": "code",
   "execution_count": 248,
   "id": "38ede8bf",
   "metadata": {},
   "outputs": [
    {
     "name": "stdout",
     "output_type": "stream",
     "text": [
      "B[0]: 0\n",
      "B[50]: 50\n",
      "B[99]: 99\n"
     ]
    }
   ],
   "source": [
    "print(f'B[0]: {B[0]}')\n",
    "print(f'B[50]: {B[50]}')\n",
    "print(f'B[99]: {B[99]}')"
   ]
  },
  {
   "cell_type": "code",
   "execution_count": 249,
   "id": "81458afb",
   "metadata": {},
   "outputs": [
    {
     "data": {
      "text/plain": [
       "array([0, 1, 2, 3, 4, 5, 6, 7, 8, 9])"
      ]
     },
     "execution_count": 249,
     "metadata": {},
     "output_type": "execute_result"
    }
   ],
   "source": [
    "#returns all elements from index 0 to 9 (the stop index is not inclusive)\n",
    "A[0:10]"
   ]
  },
  {
   "cell_type": "code",
   "execution_count": 250,
   "id": "7d69465e",
   "metadata": {},
   "outputs": [
    {
     "data": {
      "text/plain": [
       "array([ 0,  1,  2,  3,  4,  5,  6,  7,  8,  9, 10, 11, 12, 13, 14])"
      ]
     },
     "execution_count": 250,
     "metadata": {},
     "output_type": "execute_result"
    }
   ],
   "source": [
    "#returns all elements from index 0 to 15 (the stop index is not inclusive)\n",
    "A[0:15]"
   ]
  },
  {
   "cell_type": "code",
   "execution_count": 251,
   "id": "afc33a44",
   "metadata": {},
   "outputs": [
    {
     "data": {
      "text/plain": [
       "array([500, 500, 500, 500, 500, 500, 500, 500, 500, 500,  10,  11,  12,\n",
       "        13,  14])"
      ]
     },
     "execution_count": 251,
     "metadata": {},
     "output_type": "execute_result"
    }
   ],
   "source": [
    "#converts all elements from index 0 to 9 to 500\n",
    "A[0:10] = 500\n",
    "A"
   ]
  },
  {
   "cell_type": "code",
   "execution_count": 252,
   "id": "b1843ecf",
   "metadata": {},
   "outputs": [
    {
     "data": {
      "text/plain": [
       "array([500, 500, 500, 500, 500, 500, 500, 500, 500, 500, 100, 100, 100,\n",
       "       100, 100])"
      ]
     },
     "execution_count": 252,
     "metadata": {},
     "output_type": "execute_result"
    }
   ],
   "source": [
    "#converts all elements from index 10 to 15 to 500\n",
    "A[10:15] = 100\n",
    "A"
   ]
  },
  {
   "cell_type": "code",
   "execution_count": 253,
   "id": "4284ec12",
   "metadata": {},
   "outputs": [
    {
     "data": {
      "text/plain": [
       "array([[ 0,  1,  2,  3,  4,  5,  6,  7,  8,  9],\n",
       "       [10, 11, 12, 13, 14, 15, 16, 17, 18, 19],\n",
       "       [20, 21, 22, 23, 24, 25, 26, 27, 28, 29],\n",
       "       [30, 31, 32, 33, 34, 35, 36, 37, 38, 39],\n",
       "       [40, 41, 42, 43, 44, 45, 46, 47, 48, 49]])"
      ]
     },
     "execution_count": 253,
     "metadata": {},
     "output_type": "execute_result"
    }
   ],
   "source": [
    "#example we will use to practice indexing 2d-arrays\n",
    "B = np.arange(50).reshape(5, 10)\n",
    "B"
   ]
  },
  {
   "cell_type": "code",
   "execution_count": 254,
   "id": "d77fb02f",
   "metadata": {},
   "outputs": [
    {
     "name": "stdout",
     "output_type": "stream",
     "text": [
      "0th row and 2nd col in B: 2\n",
      "3rd row and 3rd col in B: 33\n",
      "4th row and 2nd col in B: 42\n"
     ]
    }
   ],
   "source": [
    "#example of returning a specific position in 2d-array\n",
    "print(f'0th row and 2nd col in B: {B[0, 2]}')\n",
    "print(f'3rd row and 3rd col in B: {B[3, 3]}')\n",
    "print(f'4th row and 2nd col in B: {B[4, 2]}')"
   ]
  },
  {
   "cell_type": "code",
   "execution_count": 255,
   "id": "89271476",
   "metadata": {},
   "outputs": [
    {
     "name": "stdout",
     "output_type": "stream",
     "text": [
      "1th row and 5nd col in B: 15\n",
      "4rd row and 4rd col in B: 44\n",
      "2th row and 2nd col in B: 22\n"
     ]
    }
   ],
   "source": [
    "#example of returning a specific position in 2d-array\n",
    "print(f'1th row and 5nd col in B: {B[1, 5]}')\n",
    "print(f'4rd row and 4rd col in B: {B[4, 4]}')\n",
    "print(f'2th row and 2nd col in B: {B[2, 2]}')"
   ]
  },
  {
   "cell_type": "code",
   "execution_count": 256,
   "id": "48f22367",
   "metadata": {},
   "outputs": [
    {
     "data": {
      "text/plain": [
       "array([[ 3,  4],\n",
       "       [13, 14]])"
      ]
     },
     "execution_count": 256,
     "metadata": {},
     "output_type": "execute_result"
    }
   ],
   "source": [
    "#returns elemnts in rows 0-2 and columns 3-5\n",
    "B[0:2, 3:5]"
   ]
  },
  {
   "cell_type": "code",
   "execution_count": 257,
   "id": "b9bc6a2f",
   "metadata": {},
   "outputs": [
    {
     "data": {
      "text/plain": [
       "array([[20],\n",
       "       [30]])"
      ]
     },
     "execution_count": 257,
     "metadata": {},
     "output_type": "execute_result"
    }
   ],
   "source": [
    "#returns elemnts in rows 0-2 and columns 3-5\n",
    "B[2:4, 0:1]"
   ]
  },
  {
   "cell_type": "code",
   "execution_count": 258,
   "id": "efd54cd1",
   "metadata": {},
   "outputs": [
    {
     "data": {
      "text/plain": [
       "array([[ 0,  1,  2, -1, -1,  5,  6,  7,  8,  9],\n",
       "       [10, 11, 12, -1, -1, 15, 16, 17, 18, 19],\n",
       "       [20, 21, 22, 23, 24, 25, 26, 27, 28, 29],\n",
       "       [30, 31, 32, 33, 34, 35, 36, 37, 38, 39],\n",
       "       [40, 41, 42, 43, 44, 45, 46, 47, 48, 49]])"
      ]
     },
     "execution_count": 258,
     "metadata": {},
     "output_type": "execute_result"
    }
   ],
   "source": [
    "#converts elemnts in rows 0-2 and columns 3-5 to -1\n",
    "B[0:2, 3:5] = -1\n",
    "B"
   ]
  },
  {
   "cell_type": "code",
   "execution_count": 259,
   "id": "ce60ff56",
   "metadata": {},
   "outputs": [
    {
     "data": {
      "text/plain": [
       "array([[ 0,  1,  2, -1, -1,  5,  6,  7,  8,  9],\n",
       "       [10, 11, -1, -1, -1, 15, 16, 17, 18, 19],\n",
       "       [20, 21, -1, -1, -1, 25, 26, 27, 28, 29],\n",
       "       [30, 31, -1, -1, -1, 35, 36, 37, 38, 39],\n",
       "       [40, 41, 42, 43, 44, 45, 46, 47, 48, 49]])"
      ]
     },
     "execution_count": 259,
     "metadata": {},
     "output_type": "execute_result"
    }
   ],
   "source": [
    "#converts elemnts in rows 1-4 and columns 2-5 to -1\n",
    "B[1:4, 2:5] = -1\n",
    "B"
   ]
  },
  {
   "cell_type": "code",
   "execution_count": 260,
   "id": "d72b6cd9",
   "metadata": {},
   "outputs": [
    {
     "data": {
      "text/plain": [
       "array([[ 0,  1,  2,  3,  4],\n",
       "       [ 5,  6,  7,  8,  9],\n",
       "       [10, 11, 12, 13, 14],\n",
       "       [15, 16, 17, 18, 19],\n",
       "       [20, 21, 22, 23, 24],\n",
       "       [25, 26, 27, 28, 29],\n",
       "       [30, 31, 32, 33, 34],\n",
       "       [35, 36, 37, 38, 39],\n",
       "       [40, 41, 42, 43, 44],\n",
       "       [45, 46, 47, 48, 49]])"
      ]
     },
     "execution_count": 260,
     "metadata": {},
     "output_type": "execute_result"
    }
   ],
   "source": [
    "#example we will use to practice boolean array indexing\n",
    "C = np.arange(50).reshape(10, 5)\n",
    "C"
   ]
  },
  {
   "cell_type": "code",
   "execution_count": 261,
   "id": "cb6a6455",
   "metadata": {
    "scrolled": true
   },
   "outputs": [
    {
     "data": {
      "text/plain": [
       "array([[ True, False,  True, False,  True],\n",
       "       [False,  True, False,  True, False],\n",
       "       [ True, False,  True, False,  True],\n",
       "       [False,  True, False,  True, False],\n",
       "       [ True, False,  True, False,  True],\n",
       "       [False,  True, False,  True, False],\n",
       "       [ True, False,  True, False,  True],\n",
       "       [False,  True, False,  True, False],\n",
       "       [ True, False,  True, False,  True],\n",
       "       [False,  True, False,  True, False]])"
      ]
     },
     "execution_count": 261,
     "metadata": {},
     "output_type": "execute_result"
    }
   ],
   "source": [
    "#returns true if element is even and false otherwise\n",
    "C%2 == 0"
   ]
  },
  {
   "cell_type": "code",
   "execution_count": 262,
   "id": "140d1661",
   "metadata": {},
   "outputs": [
    {
     "data": {
      "text/plain": [
       "array([[False,  True, False,  True, False],\n",
       "       [ True, False,  True, False,  True],\n",
       "       [False,  True, False,  True, False],\n",
       "       [ True, False,  True, False,  True],\n",
       "       [False,  True, False,  True, False],\n",
       "       [ True, False,  True, False,  True],\n",
       "       [False,  True, False,  True, False],\n",
       "       [ True, False,  True, False,  True],\n",
       "       [False,  True, False,  True, False],\n",
       "       [ True, False,  True, False,  True]])"
      ]
     },
     "execution_count": 262,
     "metadata": {},
     "output_type": "execute_result"
    }
   ],
   "source": [
    "#returns true if element is odd and false otherwise\n",
    "C%2 == 1"
   ]
  },
  {
   "cell_type": "code",
   "execution_count": 263,
   "id": "89a87137",
   "metadata": {},
   "outputs": [
    {
     "data": {
      "text/plain": [
       "25"
      ]
     },
     "execution_count": 263,
     "metadata": {},
     "output_type": "execute_result"
    }
   ],
   "source": [
    "#sum all even elements\n",
    "(C%2 == 0).sum()"
   ]
  },
  {
   "cell_type": "code",
   "execution_count": 264,
   "id": "d421face",
   "metadata": {},
   "outputs": [
    {
     "data": {
      "text/plain": [
       "25"
      ]
     },
     "execution_count": 264,
     "metadata": {},
     "output_type": "execute_result"
    }
   ],
   "source": [
    "#sum all odd elements\n",
    "(C%2 == 1).sum()"
   ]
  },
  {
   "cell_type": "code",
   "execution_count": 265,
   "id": "2f0d94ed",
   "metadata": {},
   "outputs": [
    {
     "data": {
      "text/plain": [
       "array([ 0,  2,  4,  6,  8, 10, 12, 14, 16, 18, 20, 22, 24, 26, 28, 30, 32,\n",
       "       34, 36, 38, 40, 42, 44, 46, 48])"
      ]
     },
     "execution_count": 265,
     "metadata": {},
     "output_type": "execute_result"
    }
   ],
   "source": [
    "#returns an array of only even elements\n",
    "C[C%2 == 0]"
   ]
  },
  {
   "cell_type": "code",
   "execution_count": 266,
   "id": "b011d06d",
   "metadata": {},
   "outputs": [
    {
     "data": {
      "text/plain": [
       "array([ 1,  3,  5,  7,  9, 11, 13, 15, 17, 19, 21, 23, 25, 27, 29, 31, 33,\n",
       "       35, 37, 39, 41, 43, 45, 47, 49])"
      ]
     },
     "execution_count": 266,
     "metadata": {},
     "output_type": "execute_result"
    }
   ],
   "source": [
    "#returns an array of only even elements\n",
    "C[C%2 == 1]"
   ]
  },
  {
   "cell_type": "code",
   "execution_count": null,
   "id": "1b79bf0e",
   "metadata": {},
   "outputs": [],
   "source": []
  }
 ],
 "metadata": {
  "kernelspec": {
   "display_name": "Python 3 (ipykernel)",
   "language": "python",
   "name": "python3"
  },
  "language_info": {
   "codemirror_mode": {
    "name": "ipython",
    "version": 3
   },
   "file_extension": ".py",
   "mimetype": "text/x-python",
   "name": "python",
   "nbconvert_exporter": "python",
   "pygments_lexer": "ipython3",
   "version": "3.9.13"
  }
 },
 "nbformat": 4,
 "nbformat_minor": 5
}
